{
 "metadata": {
  "language_info": {
   "codemirror_mode": {
    "name": "ipython",
    "version": 3
   },
   "file_extension": ".py",
   "mimetype": "text/x-python",
   "name": "python",
   "nbconvert_exporter": "python",
   "pygments_lexer": "ipython3",
   "version": 3
  },
  "orig_nbformat": 2
 },
 "nbformat": 4,
 "nbformat_minor": 2,
 "cells": [
  {
   "source": [
    "### Statistické testování\n",
    "\n",
    "\n",
    "* co je to nulová a alternativní hypotéza\n",
    "* oboustranná alternativní hypotéza\n",
    "* pravo/levostranná alternativní hypotéza\n",
    "* testovací statistika\n",
    "* standardní chyba testovací statistiky\n",
    "* postup při realizaci testu: 1. zvolení testu, $H_0$, $H_1$, testovací statistika, výsledek\n",
    "* t-rozdělení\n",
    "* jednovýběrový z-test pro průměr\n",
    "* jednovýběrový t-test pro průměr\n",
    "* p-hodnota\n",
    "* chyba I. a II. druhu, \n",
    "* spolehlivost/významnost/síla testu\n",
    "\n",
    "nakreslit rozlozeni nulove hypotezy\n"
   ],
   "cell_type": "markdown",
   "metadata": {}
  },
  {
   "cell_type": "code",
   "execution_count": null,
   "metadata": {},
   "outputs": [],
   "source": []
  }
 ]
}